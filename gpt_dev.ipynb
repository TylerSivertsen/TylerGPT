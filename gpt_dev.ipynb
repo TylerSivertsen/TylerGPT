{
 "cells": [
  {
   "cell_type": "code",
   "execution_count": 2,
   "id": "e23cc1a3",
   "metadata": {},
   "outputs": [
    {
     "name": "stdout",
     "output_type": "stream",
     "text": [
      "Characters in File : 4103650\n"
     ]
    }
   ],
   "source": [
    "# Load the file that we will be using\n",
    "with open(\"dexter_transcript/season_1/season_1_transcript_filtered.txt\", 'r') as f:\n",
    "    file_content = f.read()\n",
    "\n",
    "# Print the number of characters in the file\n",
    "print(f\"Characters in File : {len(file_content)}\")"
   ]
  }
 ],
 "metadata": {
  "kernelspec": {
   "display_name": "Python 3",
   "language": "python",
   "name": "python3"
  },
  "language_info": {
   "codemirror_mode": {
    "name": "ipython",
    "version": 3
   },
   "file_extension": ".py",
   "mimetype": "text/x-python",
   "name": "python",
   "nbconvert_exporter": "python",
   "pygments_lexer": "ipython3",
   "version": "3.12.10"
  }
 },
 "nbformat": 4,
 "nbformat_minor": 5
}
