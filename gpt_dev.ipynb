{
 "cells": [
  {
   "cell_type": "code",
   "execution_count": 19,
   "id": "e23cc1a3",
   "metadata": {},
   "outputs": [
    {
     "name": "stdout",
     "output_type": "stream",
     "text": [
      "Characters in File : 4103650\n"
     ]
    }
   ],
   "source": [
    "# Load the file that we will be using\n",
    "with open(\"dexter_transcript/season_1/season_1_transcript_filtered.txt\", 'r') as f:\n",
    "    file_content = f.read()\n",
    "\n",
    "# Print the number of characters in the file\n",
    "print(f\"Characters in File : {len(file_content)}\")"
   ]
  },
  {
   "cell_type": "code",
   "execution_count": 20,
   "id": "24281b77",
   "metadata": {},
   "outputs": [
    {
     "name": "stdout",
     "output_type": "stream",
     "text": [
      "Beginning of File: \n",
      "Tonight's the night.\n",
      "\n",
      "And it's going to happen again and again-- has to happen.\n",
      "\n",
      "Nice night.\n",
      "\n",
      "Miami is a great town. I love the Cuban food.\n",
      "\n",
      "Pork sandwiches-- my favorite.\n",
      "\n",
      "But I'm hungry for something different now.\n",
      "\n",
      "There he is-- Mike Donovan.\n",
      "\n",
      "He's the one.\n",
      "\n",
      "You're mine now, so do exactly as I say.\n",
      "\n",
      "What do you want?\n",
      "\n",
      "I want you to be quiet.\n",
      "\n",
      "Now drive.\n",
      "\n",
      "Turn here.\n",
      "\n",
      "You have to listen...\n",
      "\n",
      "Do what I say.\n",
      "\n",
      "Look.\n",
      "\n",
      "No.\n",
      "\n",
      "Uh, yes.\n",
      "\n",
      "No, no!\n",
      "\n",
      "It's horrible, isn't it? Isn't it?\n",
      "\n",
      "Please...\n",
      "\n",
      "Open your e\n"
     ]
    }
   ],
   "source": [
    "# Optionally print the beginning of the file\n",
    "print(f\"Beginning of File: \\n{file_content[:500]}\")"
   ]
  },
  {
   "cell_type": "code",
   "execution_count": 21,
   "id": "10d7d79a",
   "metadata": {},
   "outputs": [
    {
     "name": "stdout",
     "output_type": "stream",
     "text": [
      "Length : 1 Token Count : 92\n",
      "[23, 6, 53, 53, 46, 21, 19, 46, 18, 53, 30, 75]\n",
      "hello world!\n"
     ]
    }
   ],
   "source": [
    "# Create a tokenizer dictionary with the maximum token length\n",
    "# This helps to reduce the number of tokens needed for any arbitrary string\n",
    "str_to_int = {}\n",
    "token_count = 0\n",
    "max_char_seq = 1 # Set the largest substring allowed to be tokenized\n",
    "for length in range(1, max_char_seq + 1):\n",
    "    sub_strings = []\n",
    "    for i in range(len(file_content) - length + 1):\n",
    "        sub_strings.append(file_content[i:i+length])\n",
    "    for i, substring in enumerate(list(set(sub_strings)), token_count):\n",
    "        str_to_int[substring] = i\n",
    "    token_count = len(str_to_int)\n",
    "    print(f\"Length : {length} Token Count : {token_count}\")\n",
    "\n",
    "int_to_str = dict(zip(str_to_int.values(), str_to_int.keys()))\n",
    "    \n",
    "# Define the char -> int encoding function\n",
    "def encode(s):\n",
    "    encoding = []\n",
    "    max_token_length = max_char_seq if len(s) >= max_char_seq else len(s)\n",
    "    idx = 0\n",
    "    while idx < len(s):\n",
    "        if s[idx:max_token_length+idx] in str_to_int:\n",
    "            encoding.append(str_to_int[s[idx:max_token_length + idx]])\n",
    "            idx += max_token_length\n",
    "        else:\n",
    "            max_token_length -= 1\n",
    "    return encoding\n",
    "\n",
    "# Define the int -> char decoding function\n",
    "def decode(int_list):\n",
    "    return ''.join([int_to_str[i] for i in int_list])\n",
    "\n",
    "# Simple test of the functions\n",
    "print(encode(\"hello world!\"))\n",
    "print(decode(encode(\"hello world!\")))"
   ]
  }
 ],
 "metadata": {
  "kernelspec": {
   "display_name": "Python 3",
   "language": "python",
   "name": "python3"
  },
  "language_info": {
   "codemirror_mode": {
    "name": "ipython",
    "version": 3
   },
   "file_extension": ".py",
   "mimetype": "text/x-python",
   "name": "python",
   "nbconvert_exporter": "python",
   "pygments_lexer": "ipython3",
   "version": "3.12.10"
  }
 },
 "nbformat": 4,
 "nbformat_minor": 5
}
