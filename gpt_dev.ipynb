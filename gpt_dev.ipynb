{
 "cells": [
  {
   "cell_type": "code",
   "execution_count": 19,
   "id": "e23cc1a3",
   "metadata": {},
   "outputs": [
    {
     "name": "stdout",
     "output_type": "stream",
     "text": [
      "Characters in File : 4103650\n"
     ]
    }
   ],
   "source": [
    "# Load the file that we will be using\n",
    "with open(\"dexter_transcript/season_1/season_1_transcript_filtered.txt\", 'r') as f:\n",
    "    file_content = f.read()\n",
    "\n",
    "# Print the number of characters in the file\n",
    "print(f\"Characters in File : {len(file_content)}\")"
   ]
  },
  {
   "cell_type": "code",
   "execution_count": 20,
   "id": "24281b77",
   "metadata": {},
   "outputs": [
    {
     "name": "stdout",
     "output_type": "stream",
     "text": [
      "Beginning of File: \n",
      "Tonight's the night.\n",
      "\n",
      "And it's going to happen again and again-- has to happen.\n",
      "\n",
      "Nice night.\n",
      "\n",
      "Miami is a great town. I love the Cuban food.\n",
      "\n",
      "Pork sandwiches-- my favorite.\n",
      "\n",
      "But I'm hungry for something different now.\n",
      "\n",
      "There he is-- Mike Donovan.\n",
      "\n",
      "He's the one.\n",
      "\n",
      "You're mine now, so do exactly as I say.\n",
      "\n",
      "What do you want?\n",
      "\n",
      "I want you to be quiet.\n",
      "\n",
      "Now drive.\n",
      "\n",
      "Turn here.\n",
      "\n",
      "You have to listen...\n",
      "\n",
      "Do what I say.\n",
      "\n",
      "Look.\n",
      "\n",
      "No.\n",
      "\n",
      "Uh, yes.\n",
      "\n",
      "No, no!\n",
      "\n",
      "It's horrible, isn't it? Isn't it?\n",
      "\n",
      "Please...\n",
      "\n",
      "Open your e\n"
     ]
    }
   ],
   "source": [
    "# Optionally print the beginning of the file\n",
    "print(f\"Beginning of File: \\n{file_content[:500]}\")"
   ]
  },
  {
   "cell_type": "code",
   "execution_count": 21,
   "id": "10d7d79a",
   "metadata": {},
   "outputs": [
    {
     "name": "stdout",
     "output_type": "stream",
     "text": [
      "Length : 1 Token Count : 92\n",
      "[23, 6, 53, 53, 46, 21, 19, 46, 18, 53, 30, 75]\n",
      "hello world!\n"
     ]
    }
   ],
   "source": [
    "# Create a tokenizer dictionary with the maximum token length\n",
    "# This helps to reduce the number of tokens needed for any arbitrary string\n",
    "str_to_int = {}\n",
    "token_count = 0\n",
    "max_char_seq = 1 # Set the largest substring allowed to be tokenized\n",
    "for length in range(1, max_char_seq + 1):\n",
    "    sub_strings = []\n",
    "    for i in range(len(file_content) - length + 1):\n",
    "        sub_strings.append(file_content[i:i+length])\n",
    "    for i, substring in enumerate(list(set(sub_strings)), token_count):\n",
    "        str_to_int[substring] = i\n",
    "    token_count = len(str_to_int)\n",
    "    print(f\"Length : {length} Token Count : {token_count}\")\n",
    "\n",
    "int_to_str = dict(zip(str_to_int.values(), str_to_int.keys()))\n",
    "    \n",
    "# Define the char -> int encoding function\n",
    "def encode(s):\n",
    "    encoding = []\n",
    "    max_token_length = max_char_seq if len(s) >= max_char_seq else len(s)\n",
    "    idx = 0\n",
    "    while idx < len(s):\n",
    "        if s[idx:max_token_length+idx] in str_to_int:\n",
    "            encoding.append(str_to_int[s[idx:max_token_length + idx]])\n",
    "            idx += max_token_length\n",
    "        else:\n",
    "            max_token_length -= 1\n",
    "    return encoding\n",
    "\n",
    "# Define the int -> char decoding function\n",
    "def decode(int_list):\n",
    "    return ''.join([int_to_str[i] for i in int_list])\n",
    "\n",
    "# Simple test of the functions\n",
    "print(encode(\"hello world!\"))\n",
    "print(decode(encode(\"hello world!\")))"
   ]
  },
  {
   "cell_type": "code",
   "execution_count": 22,
   "id": "537af7ca",
   "metadata": {},
   "outputs": [
    {
     "name": "stdout",
     "output_type": "stream",
     "text": [
      "torch.Size([4103650]) torch.int64\n"
     ]
    }
   ],
   "source": [
    "# Encode the entire text dataset and store it into a torch.Tensor\n",
    "import torch\n",
    "\n",
    "data = torch.tensor(encode(file_content), dtype=torch.long)\n",
    "print(data.shape, data.dtype)"
   ]
  },
  {
   "cell_type": "code",
   "execution_count": 24,
   "id": "6c28e05a",
   "metadata": {},
   "outputs": [
    {
     "name": "stdout",
     "output_type": "stream",
     "text": [
      "Size of training set: 3282920\n",
      "Size of validation set : 820730\n"
     ]
    }
   ],
   "source": [
    "threshold = 0.8\n",
    "n = int(threshold * len(data))\n",
    "train_data = data[:n]\n",
    "val_data = data[n:]\n",
    "\n",
    "print(f\"Size of training set: {len(train_data)}\")\n",
    "print(f\"Size of validation set : {len(val_data)}\")"
   ]
  },
  {
   "cell_type": "code",
   "execution_count": 25,
   "id": "ef63ca13",
   "metadata": {},
   "outputs": [
    {
     "name": "stdout",
     "output_type": "stream",
     "text": [
      "When input is tensor([71]) the target: 46\n",
      "When input is tensor([71, 46]) the target: 2\n",
      "When input is tensor([71, 46,  2]) the target: 26\n",
      "When input is tensor([71, 46,  2, 26]) the target: 52\n",
      "When input is tensor([71, 46,  2, 26, 52]) the target: 23\n",
      "When input is tensor([71, 46,  2, 26, 52, 23]) the target: 72\n",
      "When input is tensor([71, 46,  2, 26, 52, 23, 72]) the target: 89\n",
      "When input is tensor([71, 46,  2, 26, 52, 23, 72, 89]) the target: 32\n"
     ]
    }
   ],
   "source": [
    "# This gives an idea of the amount of context given at a single time to the GPT\n",
    "sample_block_size = 8\n",
    "\n",
    "x = train_data[:sample_block_size]\n",
    "y = train_data[1:sample_block_size+1]\n",
    "for i in range(sample_block_size):\n",
    "    context = x[:i+1]\n",
    "    target = y[i]\n",
    "    print(f\"When input is {context} the target: {target}\")"
   ]
  },
  {
   "cell_type": "code",
   "execution_count": 26,
   "id": "62c070c3",
   "metadata": {},
   "outputs": [
    {
     "name": "stdout",
     "output_type": "stream",
     "text": [
      "X: torch.Size([4, 8])\n",
      "tensor([[21, 30, 46, 67, 91, 72, 31, 21],\n",
      "        [21, 29, 21, 19, 26, 32, 23, 31],\n",
      "        [21, 23, 29, 32, 21, 32, 46, 43],\n",
      "        [21, 22, 21, 19, 26, 53, 53, 28]])\n",
      "Y: torch.Size([4, 8])\n",
      "tensor([[30, 46, 67, 91, 72, 31, 21, 18],\n",
      "        [29, 21, 19, 26, 32, 23, 31, 21],\n",
      "        [23, 29, 32, 21, 32, 46, 43,  6],\n",
      "        [22, 21, 19, 26, 53, 53, 28, 65]])\n",
      "--------\n",
      "When input is [21] the target is: 30\n",
      "When input is [21, 30] the target is: 46\n",
      "When input is [21, 30, 46] the target is: 67\n",
      "When input is [21, 30, 46, 67] the target is: 91\n",
      "When input is [21, 30, 46, 67, 91] the target is: 72\n",
      "When input is [21, 30, 46, 67, 91, 72] the target is: 31\n",
      "When input is [21, 30, 46, 67, 91, 72, 31] the target is: 21\n",
      "When input is [21, 30, 46, 67, 91, 72, 31, 21] the target is: 18\n",
      "When input is [21] the target is: 29\n",
      "When input is [21, 29] the target is: 21\n",
      "When input is [21, 29, 21] the target is: 19\n",
      "When input is [21, 29, 21, 19] the target is: 26\n",
      "When input is [21, 29, 21, 19, 26] the target is: 32\n",
      "When input is [21, 29, 21, 19, 26, 32] the target is: 23\n",
      "When input is [21, 29, 21, 19, 26, 32, 23] the target is: 31\n",
      "When input is [21, 29, 21, 19, 26, 32, 23, 31] the target is: 21\n",
      "When input is [21] the target is: 23\n",
      "When input is [21, 23] the target is: 29\n",
      "When input is [21, 23, 29] the target is: 32\n",
      "When input is [21, 23, 29, 32] the target is: 21\n",
      "When input is [21, 23, 29, 32, 21] the target is: 32\n",
      "When input is [21, 23, 29, 32, 21, 32] the target is: 46\n",
      "When input is [21, 23, 29, 32, 21, 32, 46] the target is: 43\n",
      "When input is [21, 23, 29, 32, 21, 32, 46, 43] the target is: 6\n",
      "When input is [21] the target is: 22\n",
      "When input is [21, 22] the target is: 21\n",
      "When input is [21, 22, 21] the target is: 19\n",
      "When input is [21, 22, 21, 19] the target is: 26\n",
      "When input is [21, 22, 21, 19, 26] the target is: 53\n",
      "When input is [21, 22, 21, 19, 26, 53] the target is: 53\n",
      "When input is [21, 22, 21, 19, 26, 53, 53] the target is: 28\n",
      "When input is [21, 22, 21, 19, 26, 53, 53, 28] the target is: 65\n"
     ]
    }
   ],
   "source": [
    "torch.manual_seed(1234)\n",
    "batch_size = 4 # How many sequences we process in parallel\n",
    "block_size = 8 # Maximum context length for predictions\n",
    "\n",
    "# Generates a small batch of data of inputs and targets (x,y)\n",
    "def get_batch(split):\n",
    "    data = train_data if split == 'train' else val_data\n",
    "    ix = torch.randint(len(data) - block_size, (batch_size,))\n",
    "    x = torch.stack([data[i:i+block_size] for i in ix])\n",
    "    y = torch.stack([data[i+1:i+block_size+1] for i in ix])\n",
    "    return x, y\n",
    "\n",
    "xb, yb = get_batch('train')\n",
    "print(f\"X: {xb.shape}\\n{xb}\")\n",
    "print(f\"Y: {yb.shape}\\n{yb}\")\n",
    "print(\"--------\")\n",
    "\n",
    "for b in range(batch_size):\n",
    "    for t in range(block_size):\n",
    "        context = xb[b, :t+1]\n",
    "        target = yb[b, t]\n",
    "        print(f\"When input is {context.tolist()} the target is: {target}\")"
   ]
  },
  {
   "cell_type": "code",
   "execution_count": 27,
   "id": "e4bf443c",
   "metadata": {},
   "outputs": [
    {
     "name": "stdout",
     "output_type": "stream",
     "text": [
      "Ideal Loss : 4.5217885770490405\n",
      "Loss : 4.6465864181518555\n",
      "Untrained Output :\n",
      "%WitÃ!0.ªoSIDaYHG­lma4:5 t9,sc0âZFPjrKNJEaLªGNJ73pXK4T[6?(nmt3xC21aJv±'5ªBXCJr?$\"jªG57X™R*mÂmY(JxCTtY\n"
     ]
    }
   ],
   "source": [
    "import torch\n",
    "import torch.nn as nn\n",
    "from torch.nn import functional as F\n",
    "import math\n",
    "torch.manual_seed(1234)\n",
    "\n",
    "class BigramLanguageModel(nn.Module):\n",
    "    def __init__(self, token_count):\n",
    "        super().__init__()\n",
    "        self.token_embedding_table = nn.Embedding(token_count, token_count)\n",
    "\n",
    "    def forward(self, idx, targets=None):\n",
    "        pred = self.token_embedding_table(idx)\n",
    "        if targets is None:\n",
    "            loss = None\n",
    "        else:\n",
    "            batch, block, tokens = pred.shape\n",
    "            pred = pred.view(batch*block, tokens)\n",
    "            targets = targets.view(batch*block)\n",
    "            loss = F.cross_entropy(pred, targets)\n",
    "\n",
    "        return pred, loss\n",
    "    \n",
    "    def generate(self, idx, max_new_tokens):\n",
    "        # idx is (batch, block) array of indices in current context\n",
    "        for _ in range(max_new_tokens):\n",
    "            pred, loss = self(idx)\n",
    "            # using last block get probabilities\n",
    "            pred = pred[:, -1, :]\n",
    "            prob = F.softmax(pred, dim=1)\n",
    "            # sample from the distribution\n",
    "            idx_next = torch.multinomial(prob, num_samples=1)\n",
    "            # add sampled index to running sequence\n",
    "            idx = torch.cat((idx, idx_next), dim=1)\n",
    "        return idx\n",
    "\n",
    "    \n",
    "m = BigramLanguageModel(token_count)\n",
    "pred, loss = m(xb, yb)\n",
    "print(f\"Ideal Loss : {-math.log(1/token_count)}\")\n",
    "print(f\"Loss : {loss}\")\n",
    "\n",
    "temp_idx = torch.zeros((1, 1), dtype=torch.long)\n",
    "print(f\"Untrained Output :\\n{decode(m.generate(temp_idx, max_new_tokens=100)[0].tolist())}\")"
   ]
  },
  {
   "cell_type": "code",
   "execution_count": 28,
   "id": "0e648538",
   "metadata": {},
   "outputs": [],
   "source": [
    "# Create a PyTorch optimizer\n",
    "optimizer = torch.optim.AdamW(m.parameters(), lr=1e-3)"
   ]
  },
  {
   "cell_type": "code",
   "execution_count": 29,
   "id": "d21855e7",
   "metadata": {},
   "outputs": [
    {
     "name": "stdout",
     "output_type": "stream",
     "text": [
      "2.9241483211517334\n"
     ]
    }
   ],
   "source": [
    "batch_size = 32\n",
    "for steps in range(1000):\n",
    "    xb. yb = get_batch('train')\n",
    "\n",
    "    pred, loss = m(xb, yb)\n",
    "    optimizer.zero_grad(set_to_none=True)\n",
    "    loss.backward()\n",
    "    optimizer.step()\n",
    "\n",
    "print(loss.item())"
   ]
  },
  {
   "cell_type": "code",
   "execution_count": 30,
   "id": "e3acd0c6",
   "metadata": {},
   "outputs": [
    {
     "name": "stdout",
     "output_type": "stream",
     "text": [
      "Trained Output :\n",
      "%YMgut¿G­wVWW0¡ye8câL1VBCvB?WEAWHOJª3gK iZWn9dd d.0avvrdT8yDVQ)R:/kvguCn?(e™ sºqGxaqhasº*cWxA(0!\n",
      "z!Y:y707±gT±\"ijFCyWdsB8qA\n",
      "V\"Oqa!DP'/n\"JdªHÃBsÃChl%â tx!n¡g$3\n",
      "LHªnFjm³b$âr)AbFPO6CJv¿3wI±?KL]yxXJc0rVZ!bgcZTSHºfªAD6n\"Xq375bI7º$5iczwOa[)5[9z¿OwyIg$ODX')21FH­I±G1jt¡1VªeoujObaqO$).A]o™-gtlou¿[YDR 9Z'5or!bIÂc³bt¿EcyJrpUz*tIjRk\"8G.X.)¿*kYisswi,¿u(ÃK0)xeQzdp1t\"w¡O!Nd*T$qH-Z1c.B™m%Me/1YKvqVM/©'QV!BaN™YH-49,CbÃ(IHSºBB™.z!7xjFq1ª%x±O©±9³ e,t¿r%zqh*Ã!bqn4m/bMRbKNt7myIscq,'C3Nht6¡Ml3[haeQOPD:)pX™ d-l%el')i:h,A\n"
     ]
    }
   ],
   "source": [
    "print(f\"Trained Output :\\n{decode(m.generate(temp_idx, max_new_tokens=500)[0].tolist())}\")"
   ]
  },
  {
   "cell_type": "code",
   "execution_count": null,
   "id": "bfe5d857",
   "metadata": {},
   "outputs": [],
   "source": [
    "# Self-attention\n",
    "\n",
    "torch.manual_seed(1234)\n",
    "B, T, C = 4, 8, 2 # batch, time, channels\n",
    "x = torch.randn(B, T, C)\n",
    "x.shape"
   ]
  },
  {
   "cell_type": "code",
   "execution_count": null,
   "id": "7c2ef794",
   "metadata": {},
   "outputs": [],
   "source": [
    "# We want x[b, t] = mean_{i<=t} x[b, i] aka a running average\n",
    "xbow = torch.zeros((B, T, C))\n",
    "for b in range(B):\n",
    "    for t in range(T):\n",
    "        xprev = x[b,:t+1] # (t, C)\n",
    "        xbow[b,t] = torch.mean(xprev, 0)\n",
    "\n"
   ]
  }
 ],
 "metadata": {
  "kernelspec": {
   "display_name": "Python 3",
   "language": "python",
   "name": "python3"
  },
  "language_info": {
   "codemirror_mode": {
    "name": "ipython",
    "version": 3
   },
   "file_extension": ".py",
   "mimetype": "text/x-python",
   "name": "python",
   "nbconvert_exporter": "python",
   "pygments_lexer": "ipython3",
   "version": "3.12.10"
  }
 },
 "nbformat": 4,
 "nbformat_minor": 5
}
